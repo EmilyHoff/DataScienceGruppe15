{
  "nbformat": 4,
  "nbformat_minor": 0,
  "metadata": {
    "colab": {
      "provenance": [],
      "authorship_tag": "ABX9TyMJ7yJrDZcZ1ibgpGj+4ZiL",
      "include_colab_link": true
    },
    "kernelspec": {
      "name": "python3",
      "display_name": "Python 3"
    },
    "language_info": {
      "name": "python"
    }
  },
  "cells": [
    {
      "cell_type": "markdown",
      "metadata": {
        "id": "view-in-github",
        "colab_type": "text"
      },
      "source": [
        "<a href=\"https://colab.research.google.com/github/samuelbc010602/DataScienceGruppe15/blob/main/part1/pipeline.ipynb\" target=\"_parent\"><img src=\"https://colab.research.google.com/assets/colab-badge.svg\" alt=\"Open In Colab\"/></a>"
      ]
    },
    {
      "cell_type": "code",
      "execution_count": 9,
      "metadata": {
        "id": "Q1qfiKEn5nJH"
      },
      "outputs": [],
      "source": [
        "import numpy as np\n",
        "import pandas as pd\n",
        "import nltk as nl"
      ]
    },
    {
      "cell_type": "code",
      "source": [
        "df = pd.read_csv(\"news_sample.csv\")\n",
        "\n"
      ],
      "metadata": {
        "colab": {
          "base_uri": "https://localhost:8080/"
        },
        "id": "gC4Miq2p52CE",
        "outputId": "7a61a43b-9b44-4b62-f855-7fa4ae581643"
      },
      "execution_count": 8,
      "outputs": [
        {
          "output_type": "stream",
          "name": "stdout",
          "text": [
            "   Unnamed: 0   id                domain        type  \\\n",
            "0           0  141               awm.com  unreliable   \n",
            "1           1  256     beforeitsnews.com        fake   \n",
            "2           2  700           cnnnext.com  unreliable   \n",
            "3           3  768               awm.com  unreliable   \n",
            "4           4  791  bipartisanreport.com   clickbait   \n",
            "\n",
            "                                                 url  \\\n",
            "0  http://awm.com/church-congregation-brings-gift...   \n",
            "1  http://beforeitsnews.com/awakening-start-here/...   \n",
            "2  http://www.cnnnext.com/video/18526/never-hike-...   \n",
            "3  http://awm.com/elusive-alien-of-the-sea-caught...   \n",
            "4  http://bipartisanreport.com/2018/01/21/trumps-...   \n",
            "\n",
            "                                             content  \\\n",
            "0  Sometimes the power of Christmas will make you...   \n",
            "1  AWAKENING OF 12 STRANDS of DNA – “Reconnecting...   \n",
            "2  Never Hike Alone: A Friday the 13th Fan Film U...   \n",
            "3  When a rare shark was caught, scientists were ...   \n",
            "4  Donald Trump has the unnerving ability to abil...   \n",
            "\n",
            "                   scraped_at                 inserted_at  \\\n",
            "0  2018-01-25 16:17:44.789555  2018-02-02 01:19:41.756632   \n",
            "1  2018-01-25 16:17:44.789555  2018-02-02 01:19:41.756632   \n",
            "2  2018-01-25 16:17:44.789555  2018-02-02 01:19:41.756632   \n",
            "3  2018-01-25 16:17:44.789555  2018-02-02 01:19:41.756632   \n",
            "4  2018-01-25 16:17:44.789555  2018-02-02 01:19:41.756632   \n",
            "\n",
            "                   updated_at  \\\n",
            "0  2018-02-02 01:19:41.756664   \n",
            "1  2018-02-02 01:19:41.756664   \n",
            "2  2018-02-02 01:19:41.756664   \n",
            "3  2018-02-02 01:19:41.756664   \n",
            "4  2018-02-02 01:19:41.756664   \n",
            "\n",
            "                                               title          authors  \\\n",
            "0  Church Congregation Brings Gift to Waitresses ...      Ruth Harris   \n",
            "1  AWAKENING OF 12 STRANDS of DNA – “Reconnecting...     Zurich Times   \n",
            "2  Never Hike Alone - A Friday the 13th Fan Film ...              NaN   \n",
            "3  Elusive ‘Alien Of The Sea ‘ Caught By Scientis...  Alexander Smith   \n",
            "4  Trump’s Genius Poll Is Complete & The Results ...  Gloria Christie   \n",
            "\n",
            "   keywords meta_keywords                                   meta_description  \\\n",
            "0       NaN          ['']                                                NaN   \n",
            "1       NaN          ['']                                                NaN   \n",
            "2       NaN          ['']  Never Hike Alone: A Friday the 13th Fan Film  ...   \n",
            "3       NaN          ['']                                                NaN   \n",
            "4       NaN          ['']                                                NaN   \n",
            "\n",
            "  tags  summary  \n",
            "0  NaN      NaN  \n",
            "1  NaN      NaN  \n",
            "2  NaN      NaN  \n",
            "3  NaN      NaN  \n",
            "4  NaN      NaN  \n"
          ]
        }
      ]
    }
  ]
}